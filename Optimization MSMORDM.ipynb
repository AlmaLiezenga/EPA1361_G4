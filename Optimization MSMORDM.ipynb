{
 "cells": [
  {
   "cell_type": "code",
   "execution_count": 1,
   "id": "b9bfca57",
   "metadata": {},
   "outputs": [],
   "source": [
    "#get the right variables from the model and the right version\n",
    "from problem_formulation import get_model_for_problem_formulation\n",
    "\n",
    "model, planning_steps = get_model_for_problem_formulation(11)"
   ]
  },
  {
   "cell_type": "code",
   "execution_count": 2,
   "id": "7df1d250",
   "metadata": {},
   "outputs": [],
   "source": [
    "#just run the experiments for 200 scenarios and 4 policies(that will change)\n",
    "from ema_workbench import ema_logging, MultiprocessingEvaluator\n",
    "\n",
    "ema_logging.log_to_stderr(ema_logging.INFO)\n",
    "\n",
    "with MultiprocessingEvaluator(model) as evaluator:\n",
    "    results = evaluator.perform_experiments(scenarios=1,               #500\n",
    "                                            policies=2,\n",
    "                                            uncertainty_sampling='mc')"
   ]
  },
  {
   "cell_type": "code",
   "execution_count": null,
   "id": "a92ee17d",
   "metadata": {},
   "outputs": [],
   "source": [
    "#try to optimize(this will take forever)\n",
    "from ema_workbench import MultiprocessingEvaluator, ema_logging\n",
    "from ema_workbench.em_framework.evaluators import BaseEvaluator\n",
    "from ema_workbench import Scenario\n",
    "\n",
    "reference_values ={'Bmax' : 175, 'Brate' : 1.5, 'pfail':0.5, 'discount rate 0' : 3.5, \n",
    "                    'discount rate 1' : 3.5, 'discount rate 2' : 3.5, 'ID flood wave shape' : 4}\n",
    "reference = Scenario('reference', **reference_values)\n",
    "\n",
    "'''\n",
    "\n",
    "nfe = 500\n",
    "epsilons = [0.1,]*len(model.outcomes)\n",
    "model, planning_steps = get_model_for_problem_formulation(6)'''\n",
    "\n",
    "with MultiprocessingEvaluator(model) as evaluator:\n",
    "    results1, convergence = evaluator.optimize(nfe = 500, \n",
    "                                               searchover='levers', \n",
    "                                               epsilons = [0.1,]*len(model.outcomes), \n",
    "                                               reference = reference)"
   ]
  },
  {
   "cell_type": "code",
   "execution_count": 7,
   "id": "8861bf4b",
   "metadata": {},
   "outputs": [],
   "source": [
    "results"
   ]
  },
  {
   "cell_type": "code",
   "execution_count": null,
   "id": "1f0aecdf",
   "metadata": {},
   "outputs": [],
   "source": [
    "import matplotlib.pyplot as plt\n",
    "from ema_workbench.analysis import parcoords\n",
    "\n",
    "data = results1.loc[:, [o.name for o in model.outcomes]]\n",
    "limits = parcoords.get_limits(data)\n",
    "limits.loc[0, ['Α.3_Expected Annual Damage', 'A.3_Expected Number of Deaths', 'Expected Evacuation Costs']] = 0\n",
    "\n",
    "paraxes = parcoords.ParallelAxes(limits)\n",
    "paraxes.plot(data)\n",
    "#paraxes.invert_axis('max_P')\n",
    "plt.show()"
   ]
  },
  {
   "cell_type": "code",
   "execution_count": null,
   "id": "775f5390",
   "metadata": {},
   "outputs": [],
   "source": []
  }
 ],
 "metadata": {
  "kernelspec": {
   "display_name": "Python 3",
   "language": "python",
   "name": "python3"
  },
  "language_info": {
   "codemirror_mode": {
    "name": "ipython",
    "version": 3
   },
   "file_extension": ".py",
   "mimetype": "text/x-python",
   "name": "python",
   "nbconvert_exporter": "python",
   "pygments_lexer": "ipython3",
   "version": "3.6.11"
  }
 },
 "nbformat": 4,
 "nbformat_minor": 5
}
